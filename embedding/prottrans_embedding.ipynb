{
 "cells": [
  {
   "cell_type": "code",
   "execution_count": null,
   "id": "77da73d0",
   "metadata": {
    "vscode": {
     "languageId": "plaintext"
    }
   },
   "outputs": [],
   "source": [
    "from transformers import BertModel, BertTokenizer \n",
    "import torch "
   ]
  }
 ],
 "metadata": {
  "language_info": {
   "name": "python"
  }
 },
 "nbformat": 4,
 "nbformat_minor": 5
}
